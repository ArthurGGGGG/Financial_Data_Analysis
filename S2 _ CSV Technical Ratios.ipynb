{
 "cells": [
  {
   "cell_type": "code",
   "execution_count": null,
   "id": "5f7c2a42",
   "metadata": {},
   "outputs": [],
   "source": [
    "import numpy as np\n",
    "import pandas as pd"
   ]
  },
  {
   "cell_type": "code",
   "execution_count": null,
   "id": "6334b486",
   "metadata": {},
   "outputs": [],
   "source": [
    "#file = pd.read_csv('-Alphabet.csv')"
   ]
  },
  {
   "cell_type": "code",
   "execution_count": null,
   "id": "f0b6e3d8",
   "metadata": {},
   "outputs": [],
   "source": [
    "_input = input()\n",
    "date_input = _input + '-Alphabet.csv'\n",
    "file = pd.read_csv(date_input)"
   ]
  },
  {
   "cell_type": "code",
   "execution_count": null,
   "id": "58e56103",
   "metadata": {},
   "outputs": [],
   "source": [
    "file = file.drop(file.columns[0], axis=1)\n",
    "file"
   ]
  },
  {
   "cell_type": "code",
   "execution_count": null,
   "id": "006bee01",
   "metadata": {},
   "outputs": [],
   "source": [
    "start_date = file.iloc[0][0]\n",
    "#print(start_date)\n",
    "end_date = file.iloc[-1][0]\n",
    "#print(end_date)\n",
    "\n",
    "#s = pd.date_range(start_date, end_date, freq='D').to_series()\n",
    "#s_0 = s.dt.dayofweek\n",
    "#s_1 = pd.Series(s_0).array\n",
    "#s_2 = s_0.to_frame()\n",
    "#print(s_2)\n",
    "#s_2[0]\n",
    "\n",
    "\n",
    "file['Date'] = pd.to_datetime(file['Date'])\n",
    "file_0 = file['Date'].dt.day_name()\n",
    "file_1 = file.merge(file_0.rename('Weekday'), left_index=True, right_index=True)\n",
    "#file['Date'].dt.day_name()"
   ]
  },
  {
   "cell_type": "code",
   "execution_count": null,
   "id": "82421150",
   "metadata": {},
   "outputs": [],
   "source": [
    "file_1"
   ]
  },
  {
   "cell_type": "code",
   "execution_count": null,
   "id": "a4865131",
   "metadata": {},
   "outputs": [],
   "source": [
    "end_week = file_1.loc[file_1['Weekday'] == 'Friday']"
   ]
  },
  {
   "cell_type": "code",
   "execution_count": null,
   "id": "075bd831",
   "metadata": {},
   "outputs": [],
   "source": [
    "col_one_list = end_week['Date'].tolist()"
   ]
  },
  {
   "cell_type": "code",
   "execution_count": null,
   "id": "7f78b6a3",
   "metadata": {},
   "outputs": [],
   "source": [
    "#file_1['Adj.Avg'] = file_1.apply(lambda _: '', axis=1)\n",
    "\n",
    "#Adj Close\n",
    "\n",
    "#file_1['Std.Dev'] = file_1.apply(lambda _: '', axis=1)\n",
    "#file_1['CV'] = file_1.apply(lambda _: '', axis=1)\n",
    "\n",
    "#High Low Volatility\n",
    "\n",
    "#file_1['H-L_Std.Dev'] = file_1.apply(lambda _: '', axis=1)\n",
    "#file_1['H-L_CV'] = file_1.apply(lambda _: '', axis=1)\n",
    "#file_1['H-L_Diff'] = file_1.apply(lambda _: '', axis=1)\n",
    "\n",
    "#Open Close Volatility\n",
    "\n",
    "#file_1['O-C_Std.Dev'] = file_1.apply(lambda _: '', axis=1)\n",
    "#file_1['O-C_CV'] = file_1.apply(lambda _: '', axis=1)\n",
    "#file_1['O-C_Diff'] = file_1.apply(lambda _: '', axis=1)\n",
    "\n",
    "#Normalization\n",
    "\n",
    "#file_1['Norm'] = file_1.apply(lambda _: '', axis=1)"
   ]
  },
  {
   "cell_type": "code",
   "execution_count": null,
   "id": "a3d86192",
   "metadata": {},
   "outputs": [],
   "source": [
    "file_2 = file_1.set_index('Date')\n",
    "    \n",
    "length = len(col_one_list)\n",
    "for i in range(length):\n",
    "    print(file_2.at[col_one_list[i], 'Adj Close'])\n",
    "    print(file_2.index.get_loc(col_one_list[i]))\n",
    "\n",
    "    if file_2.index.get_loc(col_one_list[i]) >=5:\n",
    "        print(\"Enough data to calculate past week's Adj.Avg\")\n",
    "        \n",
    "##################           \n",
    "        \n",
    "        \n",
    "        \n",
    "        \n",
    "        \n",
    "        \n",
    "        AdjClose = file_2.at[col_one_list[i], 'Adj Close']\n",
    "        print(AdjClose)\n",
    "        Index = file_2.index.get_loc(col_one_list[i])\n",
    "        print(Index)\n",
    "\n",
    "        index1 = int(Index)-1\n",
    "        index2 = int(Index)-2\n",
    "        index3 = int(Index)-3\n",
    "        index4 = int(Index)-4\n",
    "        index_ls = list(file_2.index)\n",
    "        print(index_ls[index1])\n",
    "\n",
    "        #ADJ CLOSE VALUES N-4\n",
    "        V0 = file_2.at[index_ls[index1], 'Adj Close']\n",
    "        V1 = file_2.at[index_ls[index2], 'Adj Close']\n",
    "        V2 = file_2.at[index_ls[index3], 'Adj Close']\n",
    "        V3 = file_2.at[index_ls[index4], 'Adj Close']\n",
    "\n",
    "        A1 = (AdjClose + V0 + V1 + V2 + V3) / 5\n",
    "        N_days = 1/(5-1)\n",
    "        A2 = N_days * ((AdjClose - A1)**2 + (V0 - A1)**2 + (V1 - A1)**2 + (V2 - A1)**2 + (V3 - A1)**2)\n",
    "        A3 = (A2 / A1) * 100\n",
    "\n",
    "        #LOW HIGH VALUES N-4\n",
    "        High = file_2.at[col_one_list[i], 'High']\n",
    "        V5 = file_2.at[index_ls[index1], 'High']\n",
    "        V6 = file_2.at[index_ls[index2], 'High']\n",
    "        V7 = file_2.at[index_ls[index3], 'High']\n",
    "        V8 = file_2.at[index_ls[index4], 'High']\n",
    "\n",
    "        Low = file_2.at[col_one_list[i], 'Low']\n",
    "        V9 = file_2.at[index_ls[index1], 'Low']\n",
    "        V10 = file_2.at[index_ls[index2], 'Low']\n",
    "        V11 = file_2.at[index_ls[index3], 'Low']\n",
    "        V12 = file_2.at[index_ls[index4], 'Low']\n",
    "\n",
    "        A4 = N_days * ((max(High, V5, V6, V7, V8) - min(Low, V9, V10, V11, V12))**2)\n",
    "        A5 = (A4 / A1) * 100\n",
    "        A6 = (A1 - min(Low, V9, V10, V11, V12))/(max(High, V5, V6, V7, V8) - min(Low, V9, V10, V11, V12))\n",
    "\n",
    "        #OPEN CLOSE VALUES N-4\n",
    "        Open = file_2.at[col_one_list[i], 'Open']\n",
    "        V13 = file_2.at[index_ls[index1], 'Open']\n",
    "        V14 = file_2.at[index_ls[index2], 'Open']\n",
    "        V15 = file_2.at[index_ls[index3], 'Open']\n",
    "        V16 = file_2.at[index_ls[index4], 'Open']\n",
    "\n",
    "        Close = file_2.at[col_one_list[i], 'Close']\n",
    "        V17 = file_2.at[index_ls[index1], 'Close']\n",
    "        V18 = file_2.at[index_ls[index2], 'Close']\n",
    "        V19 = file_2.at[index_ls[index3], 'Close']\n",
    "        V20 = file_2.at[index_ls[index4], 'Close']\n",
    "\n",
    "        A7 = N_days * ((max(Open, V13, V14, V15, V16, Close, V17, V18, V19, V20) - min(Open, V13, V14, V15, V16, Close, V17, V18, V19, V20))**2)\n",
    "        A8 = (A7 / A1) * 100\n",
    "        A9 = (A1 - min(Open, V13, V14, V15, V16, Close, V17, V18, V19, V20))/(max(Open, V13, V14, V15, V16, Close, V17, V18, V19, V20) - min(Open, V13, V14, V15, V16, Close, V17, V18, V19, V20))\n",
    "\n",
    "        A10 = (A1 - min(AdjClose, V0, V1, V2, V3))/(max(AdjClose, V0, V1, V2, V3) - min(AdjClose, V0, V1, V2, V3))\n",
    "\n",
    "\n",
    "        file_2.at[col_one_list[i], 'Adj.Avg'] = A1\n",
    "        file_2.at[col_one_list[i], 'Std.Dev'] = A2\n",
    "        file_2.at[col_one_list[i], 'CV'] = A3\n",
    "        file_2.at[col_one_list[i], 'H-L-Std.Dev'] = A4\n",
    "        file_2.at[col_one_list[i], 'H-L-CV'] = A5\n",
    "        file_2.at[col_one_list[i], 'H-L-Diff.'] = A6\n",
    "        file_2.at[col_one_list[i], 'O-C-Std.Dev'] = A7\n",
    "        file_2.at[col_one_list[i], 'O-C-CV'] = A8\n",
    "        file_2.at[col_one_list[i], 'O-C-Diff.'] = A9\n",
    "        file_2.at[col_one_list[i], 'Norm.'] = A10\n",
    "        \n",
    "        \n",
    "        \n",
    "        \n",
    "        \n",
    "        \n",
    "        \n",
    "##################        \n",
    "        \n",
    "    else:\n",
    "        print(\"Not enough data to calculate past week's Adj.Avg\")\n",
    "        \n",
    "\n",
    "        \n",
    "file_2 = file_2.drop(columns=['Open', 'High', 'Low', 'Close', 'Volume', 'Weekday'])"
   ]
  },
  {
   "cell_type": "code",
   "execution_count": null,
   "id": "d017d623",
   "metadata": {},
   "outputs": [],
   "source": [
    "file_2['Adj.Avg'].replace('', np.nan, inplace=True)\n",
    "file_2 = file_2.dropna(subset=['Adj.Avg'])\n",
    "file_2.to_csv(_input + \"-Ratio-TF.csv\")"
   ]
  },
  {
   "cell_type": "code",
   "execution_count": null,
   "id": "31731bee",
   "metadata": {},
   "outputs": [],
   "source": []
  }
 ],
 "metadata": {
  "kernelspec": {
   "display_name": "Python 3 (ipykernel)",
   "language": "python",
   "name": "python3"
  },
  "language_info": {
   "codemirror_mode": {
    "name": "ipython",
    "version": 3
   },
   "file_extension": ".py",
   "mimetype": "text/x-python",
   "name": "python",
   "nbconvert_exporter": "python",
   "pygments_lexer": "ipython3",
   "version": "3.9.12"
  }
 },
 "nbformat": 4,
 "nbformat_minor": 5
}
